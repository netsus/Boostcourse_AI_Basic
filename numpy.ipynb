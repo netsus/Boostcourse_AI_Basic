{
 "cells": [
  {
   "cell_type": "markdown",
   "id": "b7cbab40",
   "metadata": {},
   "source": [
    "### 데이터 타입 지정 ndarray\n",
    "- numpy는 하나의 데이터 type만 배열에 넣을 수 있다.<br>\n",
    " -> List와 가장 큰 차이점, Dynamic typing not supported(리스트에는 여러 데이터타입 넣는게 가능)<br>"
   ]
  },
  {
   "cell_type": "code",
   "execution_count": 34,
   "id": "5457e568",
   "metadata": {
    "ExecuteTime": {
     "end_time": "2022-07-08T13:46:07.852645Z",
     "start_time": "2022-07-08T13:46:07.844752Z"
    }
   },
   "outputs": [
    {
     "name": "stdout",
     "output_type": "stream",
     "text": [
      "[1. 4. 5. 8.]\n",
      "test_array.dtype = dtype('float64')\n"
     ]
    }
   ],
   "source": [
    "import numpy as np\n",
    "test_array = np.array([1,4,5,\"8\"], float) # float으로 타입 지정 -> 자동으로 float64\n",
    "print(test_array)\n",
    "print(f\"{test_array.dtype = }\")"
   ]
  },
  {
   "cell_type": "markdown",
   "id": "d118b850",
   "metadata": {},
   "source": [
    "### 얕은 복사와 깊은 복사"
   ]
  },
  {
   "cell_type": "code",
   "execution_count": 10,
   "id": "13568da5",
   "metadata": {
    "ExecuteTime": {
     "end_time": "2022-07-08T05:25:21.906651Z",
     "start_time": "2022-07-08T05:25:21.889407Z"
    }
   },
   "outputs": [
    {
     "name": "stdout",
     "output_type": "stream",
     "text": [
      "[[100, 2], [3, 4]]\n",
      "[[100, 2], [3, 4]]\n"
     ]
    }
   ],
   "source": [
    "a=[[1,2],[3,4]]\n",
    "b=a.copy() # 얕은 복사의 한계\n",
    "a[0][0]=100\n",
    "print(a)\n",
    "print(b)"
   ]
  },
  {
   "cell_type": "code",
   "execution_count": 11,
   "id": "fe394908",
   "metadata": {
    "ExecuteTime": {
     "end_time": "2022-07-08T05:26:14.725037Z",
     "start_time": "2022-07-08T05:26:14.720580Z"
    }
   },
   "outputs": [
    {
     "name": "stdout",
     "output_type": "stream",
     "text": [
      "[[100, 2], [3, 4]]\n",
      "[[1, 2], [3, 4]]\n"
     ]
    }
   ],
   "source": [
    "import copy\n",
    "a=[[1,2],[3,4]]\n",
    "b = copy.deepcopy(a)\n",
    "a[0][0]=100\n",
    "print(a)\n",
    "print(b)"
   ]
  },
  {
   "cell_type": "markdown",
   "id": "930194b5",
   "metadata": {},
   "source": [
    "### flatten\n",
    ": 다차원 array를 1차원 array로 변환"
   ]
  },
  {
   "cell_type": "code",
   "execution_count": 46,
   "id": "a64256b7",
   "metadata": {
    "ExecuteTime": {
     "end_time": "2022-07-08T13:51:19.278759Z",
     "start_time": "2022-07-08T13:51:19.263229Z"
    }
   },
   "outputs": [
    {
     "name": "stdout",
     "output_type": "stream",
     "text": [
      "test_arr.shape = (2, 2, 4)\n",
      "test_arr = array([[[1, 2, 3, 4],\n",
      "        [1, 2, 5, 8]],\n",
      "\n",
      "       [[1, 2, 3, 4],\n",
      "        [1, 2, 5, 8]]])\n"
     ]
    },
    {
     "data": {
      "text/plain": [
       "array([1, 2, 3, 4, 1, 2, 5, 8, 1, 2, 3, 4, 1, 2, 5, 8])"
      ]
     },
     "execution_count": 46,
     "metadata": {},
     "output_type": "execute_result"
    }
   ],
   "source": [
    "test_matrix = [[[1,2,3,4], [1,2,5,8]], [[1,2,3,4,], [1,2,5,8]]]\n",
    "test_arr = np.array(test_matrix)\n",
    "print(f\"{test_arr.shape = }\\n{test_arr = }\")\n",
    "test_arr.flatten()"
   ]
  },
  {
   "cell_type": "markdown",
   "id": "9ce53428",
   "metadata": {},
   "source": [
    "### indexing"
   ]
  },
  {
   "cell_type": "code",
   "execution_count": 48,
   "id": "d333c928",
   "metadata": {
    "ExecuteTime": {
     "end_time": "2022-07-08T13:52:03.275598Z",
     "start_time": "2022-07-08T13:52:03.264924Z"
    }
   },
   "outputs": [
    {
     "data": {
      "text/plain": [
       "array([[1, 2, 3, 4],\n",
       "       [1, 2, 5, 8],\n",
       "       [1, 2, 3, 4],\n",
       "       [1, 2, 5, 8]])"
      ]
     },
     "execution_count": 48,
     "metadata": {},
     "output_type": "execute_result"
    }
   ],
   "source": [
    "test = test_arr.reshape(4,4)\n",
    "test"
   ]
  },
  {
   "cell_type": "code",
   "execution_count": 181,
   "id": "a8be0dcb",
   "metadata": {
    "ExecuteTime": {
     "end_time": "2022-07-08T14:55:50.071752Z",
     "start_time": "2022-07-08T14:55:50.060804Z"
    }
   },
   "outputs": [
    {
     "name": "stdout",
     "output_type": "stream",
     "text": [
      "test[0,1] = 2\n",
      "test[0][1] = 2\n"
     ]
    }
   ],
   "source": [
    "print(f\"{test[0,1] = }\")\n",
    "print(f\"{test[0][1] = }\")\n",
    "#똑같다."
   ]
  },
  {
   "cell_type": "markdown",
   "id": "9fb23ed7",
   "metadata": {},
   "source": [
    "### slicing"
   ]
  },
  {
   "cell_type": "code",
   "execution_count": 55,
   "id": "437d9d4b",
   "metadata": {
    "ExecuteTime": {
     "end_time": "2022-07-08T13:53:55.953873Z",
     "start_time": "2022-07-08T13:53:55.944016Z"
    }
   },
   "outputs": [
    {
     "data": {
      "text/plain": [
       "array([[1, 2, 3, 4],\n",
       "       [1, 2, 5, 8],\n",
       "       [1, 2, 3, 4],\n",
       "       [1, 2, 5, 8]])"
      ]
     },
     "execution_count": 55,
     "metadata": {},
     "output_type": "execute_result"
    }
   ],
   "source": [
    "test"
   ]
  },
  {
   "cell_type": "code",
   "execution_count": 53,
   "id": "d49ace55",
   "metadata": {
    "ExecuteTime": {
     "end_time": "2022-07-08T13:53:24.476488Z",
     "start_time": "2022-07-08T13:53:24.467480Z"
    }
   },
   "outputs": [
    {
     "data": {
      "text/plain": [
       "array([[3, 4],\n",
       "       [5, 8],\n",
       "       [3, 4],\n",
       "       [5, 8]])"
      ]
     },
     "execution_count": 53,
     "metadata": {},
     "output_type": "execute_result"
    }
   ],
   "source": [
    "test[:,2:] # 전체 Row, 2열 이상"
   ]
  },
  {
   "cell_type": "code",
   "execution_count": 54,
   "id": "fd7e1170",
   "metadata": {
    "ExecuteTime": {
     "end_time": "2022-07-08T13:53:48.123455Z",
     "start_time": "2022-07-08T13:53:48.113960Z"
    }
   },
   "outputs": [
    {
     "data": {
      "text/plain": [
       "array([2, 5])"
      ]
     },
     "execution_count": 54,
     "metadata": {},
     "output_type": "execute_result"
    }
   ],
   "source": [
    "test[1,1:3] # 1행, 1~2열"
   ]
  },
  {
   "cell_type": "code",
   "execution_count": 56,
   "id": "1422291e",
   "metadata": {
    "ExecuteTime": {
     "end_time": "2022-07-08T13:54:20.440904Z",
     "start_time": "2022-07-08T13:54:20.431792Z"
    }
   },
   "outputs": [
    {
     "data": {
      "text/plain": [
       "array([[1, 2, 5, 8],\n",
       "       [1, 2, 3, 4]])"
      ]
     },
     "execution_count": 56,
     "metadata": {},
     "output_type": "execute_result"
    }
   ],
   "source": [
    "test[1:3] # 1~2행"
   ]
  },
  {
   "cell_type": "markdown",
   "id": "3aee8b52",
   "metadata": {},
   "source": [
    "### np.arange"
   ]
  },
  {
   "cell_type": "code",
   "execution_count": 58,
   "id": "f22a6d5e",
   "metadata": {
    "ExecuteTime": {
     "end_time": "2022-07-08T13:55:22.698227Z",
     "start_time": "2022-07-08T13:55:22.691087Z"
    }
   },
   "outputs": [
    {
     "data": {
      "text/plain": [
       "array([0, 2, 4, 6, 8])"
      ]
     },
     "execution_count": 58,
     "metadata": {},
     "output_type": "execute_result"
    }
   ],
   "source": [
    "np.arange(0, 10, 2) # (시작, 끝, step)"
   ]
  },
  {
   "cell_type": "code",
   "execution_count": 59,
   "id": "94b76106",
   "metadata": {
    "ExecuteTime": {
     "end_time": "2022-07-08T13:55:38.440111Z",
     "start_time": "2022-07-08T13:55:38.432113Z"
    }
   },
   "outputs": [
    {
     "data": {
      "text/plain": [
       "array([ 0,  1,  2,  3,  4,  5,  6,  7,  8,  9, 10, 11, 12, 13, 14, 15, 16,\n",
       "       17, 18, 19, 20, 21, 22, 23, 24, 25, 26, 27, 28, 29])"
      ]
     },
     "execution_count": 59,
     "metadata": {},
     "output_type": "execute_result"
    }
   ],
   "source": [
    "np.arange(30) # 0~29까지"
   ]
  },
  {
   "cell_type": "code",
   "execution_count": 60,
   "id": "90748019",
   "metadata": {
    "ExecuteTime": {
     "end_time": "2022-07-08T13:55:45.955841Z",
     "start_time": "2022-07-08T13:55:45.945242Z"
    }
   },
   "outputs": [
    {
     "data": {
      "text/plain": [
       "array([[ 0,  1,  2,  3,  4,  5],\n",
       "       [ 6,  7,  8,  9, 10, 11],\n",
       "       [12, 13, 14, 15, 16, 17],\n",
       "       [18, 19, 20, 21, 22, 23],\n",
       "       [24, 25, 26, 27, 28, 29]])"
      ]
     },
     "execution_count": 60,
     "metadata": {},
     "output_type": "execute_result"
    }
   ],
   "source": [
    "np.arange(30).reshape(5,6) # 5행 6열"
   ]
  },
  {
   "cell_type": "markdown",
   "id": "639e2528",
   "metadata": {},
   "source": [
    "### np.ones, zeros"
   ]
  },
  {
   "cell_type": "code",
   "execution_count": 63,
   "id": "dd45c118",
   "metadata": {
    "ExecuteTime": {
     "end_time": "2022-07-08T13:57:27.054014Z",
     "start_time": "2022-07-08T13:57:27.039645Z"
    }
   },
   "outputs": [
    {
     "name": "stdout",
     "output_type": "stream",
     "text": [
      "ones.dtype = dtype('int64')\n"
     ]
    },
    {
     "data": {
      "text/plain": [
       "array([[1, 1, 1, 1, 1],\n",
       "       [1, 1, 1, 1, 1]])"
      ]
     },
     "execution_count": 63,
     "metadata": {},
     "output_type": "execute_result"
    }
   ],
   "source": [
    "ones = np.ones((2,5), dtype=int)\n",
    "print(f\"{ones.dtype = }\")\n",
    "ones\n",
    "# zeros도 마찬가지"
   ]
  },
  {
   "cell_type": "markdown",
   "id": "29b967a7",
   "metadata": {},
   "source": [
    "### np.ones_like, np.zeros_like"
   ]
  },
  {
   "cell_type": "code",
   "execution_count": 64,
   "id": "9d8558d5",
   "metadata": {
    "ExecuteTime": {
     "end_time": "2022-07-08T13:58:04.064790Z",
     "start_time": "2022-07-08T13:58:04.053733Z"
    }
   },
   "outputs": [
    {
     "name": "stdout",
     "output_type": "stream",
     "text": [
      "test.shape = (4, 4)\n"
     ]
    },
    {
     "data": {
      "text/plain": [
       "array([[1, 1, 1, 1],\n",
       "       [1, 1, 1, 1],\n",
       "       [1, 1, 1, 1],\n",
       "       [1, 1, 1, 1]])"
      ]
     },
     "execution_count": 64,
     "metadata": {},
     "output_type": "execute_result"
    }
   ],
   "source": [
    "print(f\"{test.shape = }\")\n",
    "np.ones_like(test)"
   ]
  },
  {
   "cell_type": "markdown",
   "id": "80205c62",
   "metadata": {},
   "source": [
    "### np.identity\n",
    ": 단위 행렬을 생성"
   ]
  },
  {
   "cell_type": "code",
   "execution_count": 69,
   "id": "5579bf1c",
   "metadata": {
    "ExecuteTime": {
     "end_time": "2022-07-08T14:00:30.161343Z",
     "start_time": "2022-07-08T14:00:30.149163Z"
    }
   },
   "outputs": [
    {
     "name": "stdout",
     "output_type": "stream",
     "text": [
      "i.dtype = dtype('int64')\n"
     ]
    },
    {
     "data": {
      "text/plain": [
       "array([[1, 0, 0],\n",
       "       [0, 1, 0],\n",
       "       [0, 0, 1]])"
      ]
     },
     "execution_count": 69,
     "metadata": {},
     "output_type": "execute_result"
    }
   ],
   "source": [
    "i = np.identity(n=3, dtype=int)\n",
    "print(f\"{i.dtype = }\")\n",
    "i"
   ]
  },
  {
   "cell_type": "markdown",
   "id": "6192b099",
   "metadata": {},
   "source": [
    "### np.eye\n",
    ": 대각선이 1인 행렬, k(start index) 변경가능"
   ]
  },
  {
   "cell_type": "code",
   "execution_count": 70,
   "id": "b6f8419b",
   "metadata": {
    "ExecuteTime": {
     "end_time": "2022-07-08T14:00:47.406757Z",
     "start_time": "2022-07-08T14:00:47.397791Z"
    }
   },
   "outputs": [
    {
     "name": "stdout",
     "output_type": "stream",
     "text": [
      "e.dtype = dtype('int64')\n"
     ]
    },
    {
     "data": {
      "text/plain": [
       "array([[1, 0, 0, 0, 0],\n",
       "       [0, 1, 0, 0, 0],\n",
       "       [0, 0, 1, 0, 0]])"
      ]
     },
     "execution_count": 70,
     "metadata": {},
     "output_type": "execute_result"
    }
   ],
   "source": [
    "e = np.eye(N=3, M=5, dtype=int)\n",
    "print(f\"{e.dtype = }\")\n",
    "e"
   ]
  },
  {
   "cell_type": "code",
   "execution_count": 71,
   "id": "b43112a0",
   "metadata": {
    "ExecuteTime": {
     "end_time": "2022-07-08T14:00:51.880691Z",
     "start_time": "2022-07-08T14:00:51.869915Z"
    }
   },
   "outputs": [
    {
     "data": {
      "text/plain": [
       "array([[1., 0., 0.],\n",
       "       [0., 1., 0.],\n",
       "       [0., 0., 1.]])"
      ]
     },
     "execution_count": 71,
     "metadata": {},
     "output_type": "execute_result"
    }
   ],
   "source": [
    "np.eye(3)"
   ]
  },
  {
   "cell_type": "code",
   "execution_count": 72,
   "id": "bcee06de",
   "metadata": {
    "ExecuteTime": {
     "end_time": "2022-07-08T14:01:03.836737Z",
     "start_time": "2022-07-08T14:01:03.828441Z"
    }
   },
   "outputs": [
    {
     "data": {
      "text/plain": [
       "array([[0., 0., 1., 0., 0.],\n",
       "       [0., 0., 0., 1., 0.],\n",
       "       [0., 0., 0., 0., 1.]])"
      ]
     },
     "execution_count": 72,
     "metadata": {},
     "output_type": "execute_result"
    }
   ],
   "source": [
    "np.eye(3,5,k=2) # start index 2 (2열부터 대각행렬)"
   ]
  },
  {
   "cell_type": "markdown",
   "id": "34fe72a6",
   "metadata": {},
   "source": [
    "### random sampling"
   ]
  },
  {
   "cell_type": "code",
   "execution_count": 74,
   "id": "1b421a48",
   "metadata": {
    "ExecuteTime": {
     "end_time": "2022-07-08T14:02:12.380839Z",
     "start_time": "2022-07-08T14:02:12.372017Z"
    }
   },
   "outputs": [
    {
     "data": {
      "text/plain": [
       "array([[0.61458193, 0.11553319, 0.3738878 , 0.11206745, 0.99118032],\n",
       "       [0.84089873, 0.90170199, 0.32228599, 0.10527329, 0.24510245]])"
      ]
     },
     "execution_count": 74,
     "metadata": {},
     "output_type": "execute_result"
    }
   ],
   "source": [
    "np.random.uniform(0,1,10).reshape(2,5) # 0~1 균등분포"
   ]
  },
  {
   "cell_type": "code",
   "execution_count": 77,
   "id": "6ad73540",
   "metadata": {
    "ExecuteTime": {
     "end_time": "2022-07-08T14:04:34.061224Z",
     "start_time": "2022-07-08T14:04:34.049570Z"
    }
   },
   "outputs": [
    {
     "data": {
      "text/plain": [
       "array([[ 1.77916019,  0.60619016,  0.06288257,  1.57586799],\n",
       "       [-1.36382115,  0.0531033 ,  1.91525422,  0.70426533]])"
      ]
     },
     "execution_count": 77,
     "metadata": {},
     "output_type": "execute_result"
    }
   ],
   "source": [
    "np.random.normal(0,1,8).reshape(2,4) # 정규분포 - 중앙값:0, 표준편차:1, 8개 값"
   ]
  },
  {
   "cell_type": "markdown",
   "id": "9c0e9e15",
   "metadata": {},
   "source": [
    "### axis\n",
    "\n",
    "1차원 -> 2차원 -> 3차원으로 갈때<br>\n",
    "shape는 열 -> 행, 열 -> 면, 행, 열 처럼 새로나오는 차원이 왼쪽에 붙는다.<br>\n",
    "**이 떄 axis는 새롭게 생긴 차원(shape 에서 제일 왼쪾에 있는 차원)이 항상 0이다**"
   ]
  },
  {
   "cell_type": "code",
   "execution_count": 85,
   "id": "8a6ff279",
   "metadata": {
    "ExecuteTime": {
     "end_time": "2022-07-08T14:08:50.706508Z",
     "start_time": "2022-07-08T14:08:50.700817Z"
    }
   },
   "outputs": [
    {
     "name": "stdout",
     "output_type": "stream",
     "text": [
      "on.shape = (30,)\n",
      "on = array([1., 1., 1., 1., 1., 1., 1., 1., 1., 1., 1., 1., 1., 1., 1., 1., 1.,\n",
      "       1., 1., 1., 1., 1., 1., 1., 1., 1., 1., 1., 1., 1.])\n"
     ]
    }
   ],
   "source": [
    "# 1차원 30개 짜리가 있을 때\n",
    "on = np.ones(30)\n",
    "print(f\"{on.shape = }\\n{on = }\")\n",
    "# 열이 axis=0"
   ]
  },
  {
   "cell_type": "code",
   "execution_count": 86,
   "id": "28985ad4",
   "metadata": {
    "ExecuteTime": {
     "end_time": "2022-07-08T14:08:50.923963Z",
     "start_time": "2022-07-08T14:08:50.914786Z"
    }
   },
   "outputs": [
    {
     "name": "stdout",
     "output_type": "stream",
     "text": [
      "on.shape = (5, 6)\n",
      "on = array([[1., 1., 1., 1., 1., 1.],\n",
      "       [1., 1., 1., 1., 1., 1.],\n",
      "       [1., 1., 1., 1., 1., 1.],\n",
      "       [1., 1., 1., 1., 1., 1.],\n",
      "       [1., 1., 1., 1., 1., 1.]])\n"
     ]
    }
   ],
   "source": [
    "on = on.reshape(5,6)\n",
    "print(f\"{on.shape = }\\n{on = }\")\n",
    "# 2차원이 되면 3행, 9열\n",
    "# 행이 axis=0"
   ]
  },
  {
   "cell_type": "code",
   "execution_count": 93,
   "id": "bf942ef4",
   "metadata": {
    "ExecuteTime": {
     "end_time": "2022-07-08T14:15:22.295505Z",
     "start_time": "2022-07-08T14:15:22.285913Z"
    }
   },
   "outputs": [
    {
     "name": "stdout",
     "output_type": "stream",
     "text": [
      "on.shape = (2, 3, 5)\n",
      "on = array([[[1., 1., 1., 1., 1.],\n",
      "        [1., 1., 1., 1., 1.],\n",
      "        [1., 1., 1., 1., 1.]],\n",
      "\n",
      "       [[1., 1., 1., 1., 1.],\n",
      "        [1., 1., 1., 1., 1.],\n",
      "        [1., 1., 1., 1., 1.]]])\n"
     ]
    }
   ],
   "source": [
    "on = on.reshape(2,3,5)\n",
    "print(f\"{on.shape = }\\n{on = }\")\n",
    "# 3차원이면 2면, 3행, 5열\n",
    "# 면이 axis=0"
   ]
  },
  {
   "cell_type": "code",
   "execution_count": 94,
   "id": "d51d4faf",
   "metadata": {
    "ExecuteTime": {
     "end_time": "2022-07-08T14:15:23.631572Z",
     "start_time": "2022-07-08T14:15:23.625405Z"
    }
   },
   "outputs": [
    {
     "data": {
      "text/plain": [
       "array([[2., 2., 2., 2., 2.],\n",
       "       [2., 2., 2., 2., 2.],\n",
       "       [2., 2., 2., 2., 2.]])"
      ]
     },
     "execution_count": 94,
     "metadata": {},
     "output_type": "execute_result"
    }
   ],
   "source": [
    "on.sum(axis=0) # 면을 기준하여 수직으로 합"
   ]
  },
  {
   "cell_type": "code",
   "execution_count": 95,
   "id": "73b8f4fe",
   "metadata": {
    "ExecuteTime": {
     "end_time": "2022-07-08T14:15:24.036894Z",
     "start_time": "2022-07-08T14:15:24.027974Z"
    }
   },
   "outputs": [
    {
     "data": {
      "text/plain": [
       "array([[3., 3., 3., 3., 3.],\n",
       "       [3., 3., 3., 3., 3.]])"
      ]
     },
     "execution_count": 95,
     "metadata": {},
     "output_type": "execute_result"
    }
   ],
   "source": [
    "on.sum(axis=1) # 행을 기준하여 수직으로 합"
   ]
  },
  {
   "cell_type": "code",
   "execution_count": 96,
   "id": "44a88b9d",
   "metadata": {
    "ExecuteTime": {
     "end_time": "2022-07-08T14:15:24.407265Z",
     "start_time": "2022-07-08T14:15:24.400020Z"
    }
   },
   "outputs": [
    {
     "data": {
      "text/plain": [
       "array([[5., 5., 5.],\n",
       "       [5., 5., 5.]])"
      ]
     },
     "execution_count": 96,
     "metadata": {},
     "output_type": "execute_result"
    }
   ],
   "source": [
    "on.sum(axis=2) # 열을 기준하여 수직으로 합"
   ]
  },
  {
   "cell_type": "markdown",
   "id": "ca2ff4f4",
   "metadata": {},
   "source": [
    "### concatenate: np.vstack, np.hstack\n",
    ": Numpy array를 합치는 함수<br>\n",
    "<br><img src=https://blog.kakaocdn.net/dn/rSWwB/btrGRjD076R/b2hLJt25wlC2y21oDSmal0/img.png width=1000>"
   ]
  },
  {
   "cell_type": "code",
   "execution_count": 106,
   "id": "b7094835",
   "metadata": {
    "ExecuteTime": {
     "end_time": "2022-07-08T14:22:48.020228Z",
     "start_time": "2022-07-08T14:22:48.011837Z"
    }
   },
   "outputs": [
    {
     "data": {
      "text/plain": [
       "array([[1, 2, 3],\n",
       "       [2, 3, 4]])"
      ]
     },
     "execution_count": 106,
     "metadata": {},
     "output_type": "execute_result"
    }
   ],
   "source": [
    "a = np.array([1,2,3])\n",
    "b = np.array([2,3,4])\n",
    "np.vstack((a,b)) # vertical 수직 방향으로 붙인다"
   ]
  },
  {
   "cell_type": "code",
   "execution_count": 117,
   "id": "76b3dc3f",
   "metadata": {
    "ExecuteTime": {
     "end_time": "2022-07-08T14:25:23.194410Z",
     "start_time": "2022-07-08T14:25:23.183734Z"
    }
   },
   "outputs": [
    {
     "data": {
      "text/plain": [
       "array([[1, 2, 3]])"
      ]
     },
     "execution_count": 117,
     "metadata": {},
     "output_type": "execute_result"
    }
   ],
   "source": [
    "a.reshape(1,-1)"
   ]
  },
  {
   "cell_type": "code",
   "execution_count": 120,
   "id": "8cbb34f6",
   "metadata": {
    "ExecuteTime": {
     "end_time": "2022-07-08T14:25:48.127800Z",
     "start_time": "2022-07-08T14:25:48.117902Z"
    }
   },
   "outputs": [
    {
     "data": {
      "text/plain": [
       "array([[1, 2, 3],\n",
       "       [2, 3, 4]])"
      ]
     },
     "execution_count": 120,
     "metadata": {},
     "output_type": "execute_result"
    }
   ],
   "source": [
    "# concatenate로 axis 지정하면 vstack 구현 가능\n",
    "np.concatenate( (a.reshape(1,3),b.reshape(1,3)), axis=0 )"
   ]
  },
  {
   "cell_type": "code",
   "execution_count": 121,
   "id": "65e11554",
   "metadata": {
    "ExecuteTime": {
     "end_time": "2022-07-08T14:26:08.010267Z",
     "start_time": "2022-07-08T14:26:07.997600Z"
    }
   },
   "outputs": [
    {
     "data": {
      "text/plain": [
       "array([[1, 2],\n",
       "       [2, 3],\n",
       "       [3, 4]])"
      ]
     },
     "execution_count": 121,
     "metadata": {},
     "output_type": "execute_result"
    }
   ],
   "source": [
    "a = np.array([1,2,3]).reshape(3,-1)\n",
    "b = np.array([2,3,4]).reshape(3,-1)\n",
    "np.hstack((a,b)) # horizontal 수평 방향으로 붙인다"
   ]
  },
  {
   "cell_type": "code",
   "execution_count": 126,
   "id": "2fd06d3a",
   "metadata": {
    "ExecuteTime": {
     "end_time": "2022-07-08T14:26:42.996022Z",
     "start_time": "2022-07-08T14:26:42.987963Z"
    }
   },
   "outputs": [
    {
     "data": {
      "text/plain": [
       "array([[1, 2],\n",
       "       [2, 3],\n",
       "       [3, 4]])"
      ]
     },
     "execution_count": 126,
     "metadata": {},
     "output_type": "execute_result"
    }
   ],
   "source": [
    "# 마찬가지로 concatenate로 hstack도 구현가능\n",
    "np.concatenate((a,b), axis=1)"
   ]
  },
  {
   "cell_type": "markdown",
   "id": "56e2aca0",
   "metadata": {},
   "source": [
    "### array 연산\n",
    ": Numpy는 기본적으로 array간의 기본적인 사칙 연산 지원"
   ]
  },
  {
   "cell_type": "code",
   "execution_count": 128,
   "id": "44d8ce27",
   "metadata": {
    "ExecuteTime": {
     "end_time": "2022-07-08T14:27:24.172682Z",
     "start_time": "2022-07-08T14:27:24.163385Z"
    }
   },
   "outputs": [
    {
     "data": {
      "text/plain": [
       "array([[1, 2, 3, 4],\n",
       "       [1, 2, 5, 8],\n",
       "       [1, 2, 3, 4],\n",
       "       [1, 2, 5, 8]])"
      ]
     },
     "execution_count": 128,
     "metadata": {},
     "output_type": "execute_result"
    }
   ],
   "source": [
    "test"
   ]
  },
  {
   "cell_type": "code",
   "execution_count": 129,
   "id": "ecce95bb",
   "metadata": {
    "ExecuteTime": {
     "end_time": "2022-07-08T14:27:26.135254Z",
     "start_time": "2022-07-08T14:27:26.128772Z"
    }
   },
   "outputs": [
    {
     "data": {
      "text/plain": [
       "array([[ 2,  4,  6,  8],\n",
       "       [ 2,  4, 10, 16],\n",
       "       [ 2,  4,  6,  8],\n",
       "       [ 2,  4, 10, 16]])"
      ]
     },
     "execution_count": 129,
     "metadata": {},
     "output_type": "execute_result"
    }
   ],
   "source": [
    "test + test"
   ]
  },
  {
   "cell_type": "code",
   "execution_count": 130,
   "id": "1b076d68",
   "metadata": {
    "ExecuteTime": {
     "end_time": "2022-07-08T14:27:29.423765Z",
     "start_time": "2022-07-08T14:27:29.416407Z"
    }
   },
   "outputs": [
    {
     "data": {
      "text/plain": [
       "array([[0, 0, 0, 0],\n",
       "       [0, 0, 0, 0],\n",
       "       [0, 0, 0, 0],\n",
       "       [0, 0, 0, 0]])"
      ]
     },
     "execution_count": 130,
     "metadata": {},
     "output_type": "execute_result"
    }
   ],
   "source": [
    "test - test"
   ]
  },
  {
   "cell_type": "code",
   "execution_count": 131,
   "id": "01fc9c32",
   "metadata": {
    "ExecuteTime": {
     "end_time": "2022-07-08T14:27:36.476628Z",
     "start_time": "2022-07-08T14:27:36.467459Z"
    }
   },
   "outputs": [
    {
     "data": {
      "text/plain": [
       "array([[ 1,  4,  9, 16],\n",
       "       [ 1,  4, 25, 64],\n",
       "       [ 1,  4,  9, 16],\n",
       "       [ 1,  4, 25, 64]])"
      ]
     },
     "execution_count": 131,
     "metadata": {},
     "output_type": "execute_result"
    }
   ],
   "source": [
    "test * test"
   ]
  },
  {
   "cell_type": "code",
   "execution_count": 132,
   "id": "96f9ea69",
   "metadata": {
    "ExecuteTime": {
     "end_time": "2022-07-08T14:27:39.501255Z",
     "start_time": "2022-07-08T14:27:39.492531Z"
    }
   },
   "outputs": [
    {
     "data": {
      "text/plain": [
       "array([[1., 1., 1., 1.],\n",
       "       [1., 1., 1., 1.],\n",
       "       [1., 1., 1., 1.],\n",
       "       [1., 1., 1., 1.]])"
      ]
     },
     "execution_count": 132,
     "metadata": {},
     "output_type": "execute_result"
    }
   ],
   "source": [
    "test / test"
   ]
  },
  {
   "cell_type": "markdown",
   "id": "2d0b6c29",
   "metadata": {},
   "source": [
    "### broadcasting\n",
    "Shape이 다른 배열 간 연산할 때 퍼뜨려주는기능<br>\n",
    "-> 스칼라값과 배열간 연산할 때 유용하다."
   ]
  },
  {
   "cell_type": "code",
   "execution_count": 133,
   "id": "e749568f",
   "metadata": {
    "ExecuteTime": {
     "end_time": "2022-07-08T14:28:52.109546Z",
     "start_time": "2022-07-08T14:28:52.101873Z"
    }
   },
   "outputs": [
    {
     "data": {
      "text/plain": [
       "array([[1, 2, 3, 4],\n",
       "       [1, 2, 5, 8],\n",
       "       [1, 2, 3, 4],\n",
       "       [1, 2, 5, 8]])"
      ]
     },
     "execution_count": 133,
     "metadata": {},
     "output_type": "execute_result"
    }
   ],
   "source": [
    "test"
   ]
  },
  {
   "cell_type": "code",
   "execution_count": 138,
   "id": "12b3d10b",
   "metadata": {
    "ExecuteTime": {
     "end_time": "2022-07-08T14:29:18.951619Z",
     "start_time": "2022-07-08T14:29:18.943287Z"
    }
   },
   "outputs": [
    {
     "data": {
      "text/plain": [
       "array([[ 4,  5,  6,  7],\n",
       "       [ 4,  5,  8, 11],\n",
       "       [ 4,  5,  6,  7],\n",
       "       [ 4,  5,  8, 11]])"
      ]
     },
     "execution_count": 138,
     "metadata": {},
     "output_type": "execute_result"
    }
   ],
   "source": [
    "test + 3 # 스칼라 값을 test의 모든 위치에 더해준다"
   ]
  },
  {
   "cell_type": "markdown",
   "id": "84f9f9c9",
   "metadata": {},
   "source": [
    "#### broadcasting 유의할부분\n",
    ": 서로 다른 차원의 행렬에 대해 연산할 때, 차원을 맞춰서 계산해준다. (규칙이 있다)<br>\n",
    "<br><img src=https://blog.kakaocdn.net/dn/k8ytY/btrGO7ZFLgr/y7aVMp8je7PznfEzZCm52K/img.png width=1000>"
   ]
  },
  {
   "cell_type": "markdown",
   "id": "6591f914",
   "metadata": {},
   "source": [
    "### Comparison"
   ]
  },
  {
   "cell_type": "code",
   "execution_count": 139,
   "id": "8b644fe3",
   "metadata": {
    "ExecuteTime": {
     "end_time": "2022-07-08T14:34:07.375836Z",
     "start_time": "2022-07-08T14:34:07.366632Z"
    }
   },
   "outputs": [
    {
     "data": {
      "text/plain": [
       "array([[1, 2, 3, 4],\n",
       "       [1, 2, 5, 8],\n",
       "       [1, 2, 3, 4],\n",
       "       [1, 2, 5, 8]])"
      ]
     },
     "execution_count": 139,
     "metadata": {},
     "output_type": "execute_result"
    }
   ],
   "source": [
    "test"
   ]
  },
  {
   "cell_type": "code",
   "execution_count": 141,
   "id": "6af4de03",
   "metadata": {
    "ExecuteTime": {
     "end_time": "2022-07-08T14:34:35.445780Z",
     "start_time": "2022-07-08T14:34:35.435306Z"
    }
   },
   "outputs": [
    {
     "data": {
      "text/plain": [
       "array([[False, False, False,  True],\n",
       "       [False, False,  True,  True],\n",
       "       [False, False, False,  True],\n",
       "       [False, False,  True,  True]])"
      ]
     },
     "execution_count": 141,
     "metadata": {},
     "output_type": "execute_result"
    }
   ],
   "source": [
    "test > 3 # 개별 인자들에 대해 비교 연산결과 반환"
   ]
  },
  {
   "cell_type": "markdown",
   "id": "46f27ebe",
   "metadata": {},
   "source": [
    "### np.where"
   ]
  },
  {
   "cell_type": "code",
   "execution_count": 154,
   "id": "b37ae436",
   "metadata": {
    "ExecuteTime": {
     "end_time": "2022-07-08T14:39:33.502436Z",
     "start_time": "2022-07-08T14:39:33.498531Z"
    }
   },
   "outputs": [],
   "source": [
    "a = np.arange(10)"
   ]
  },
  {
   "cell_type": "code",
   "execution_count": 155,
   "id": "24cf74ff",
   "metadata": {
    "ExecuteTime": {
     "end_time": "2022-07-08T14:39:39.131430Z",
     "start_time": "2022-07-08T14:39:39.121493Z"
    }
   },
   "outputs": [
    {
     "data": {
      "text/plain": [
       "array([  0,   0,   0,   0, 100, 100, 100, 100, 100, 100])"
      ]
     },
     "execution_count": 155,
     "metadata": {},
     "output_type": "execute_result"
    }
   ],
   "source": [
    "np.where(a > 3, 100, 0) # where(condition, TRUE, FALSE)"
   ]
  },
  {
   "cell_type": "code",
   "execution_count": 156,
   "id": "3f0a0785",
   "metadata": {
    "ExecuteTime": {
     "end_time": "2022-07-08T14:39:41.776909Z",
     "start_time": "2022-07-08T14:39:41.768747Z"
    }
   },
   "outputs": [
    {
     "data": {
      "text/plain": [
       "(array([4, 5, 6, 7, 8, 9]),)"
      ]
     },
     "execution_count": 156,
     "metadata": {},
     "output_type": "execute_result"
    }
   ],
   "source": [
    "np.where(a > 3) # Index값 반환 -> 정렬과 많이 쓴다."
   ]
  },
  {
   "cell_type": "markdown",
   "id": "44ca9a8e",
   "metadata": {},
   "source": [
    "### argmax(), argmin()\n",
    ": 최대, 최소값의 인덱스 반환"
   ]
  },
  {
   "cell_type": "code",
   "execution_count": 157,
   "id": "f6124bd4",
   "metadata": {
    "ExecuteTime": {
     "end_time": "2022-07-08T14:43:30.927936Z",
     "start_time": "2022-07-08T14:43:30.917909Z"
    }
   },
   "outputs": [
    {
     "data": {
      "text/plain": [
       "array([0, 1, 2, 3, 4, 5, 6, 7, 8, 9])"
      ]
     },
     "execution_count": 157,
     "metadata": {},
     "output_type": "execute_result"
    }
   ],
   "source": [
    "a"
   ]
  },
  {
   "cell_type": "code",
   "execution_count": 158,
   "id": "24bcc02b",
   "metadata": {
    "ExecuteTime": {
     "end_time": "2022-07-08T14:43:37.318609Z",
     "start_time": "2022-07-08T14:43:37.309543Z"
    }
   },
   "outputs": [
    {
     "data": {
      "text/plain": [
       "(9, 0)"
      ]
     },
     "execution_count": 158,
     "metadata": {},
     "output_type": "execute_result"
    }
   ],
   "source": [
    "np.argmax(a), np.argmin(a)"
   ]
  },
  {
   "cell_type": "markdown",
   "id": "0269ae3e",
   "metadata": {},
   "source": [
    "### boolean index\n",
    "조건이 True인 index의 element만 추출"
   ]
  },
  {
   "cell_type": "code",
   "execution_count": 159,
   "id": "e03610db",
   "metadata": {
    "ExecuteTime": {
     "end_time": "2022-07-08T14:44:11.617466Z",
     "start_time": "2022-07-08T14:44:11.609369Z"
    }
   },
   "outputs": [
    {
     "data": {
      "text/plain": [
       "array([[1, 2, 3, 4],\n",
       "       [1, 2, 5, 8],\n",
       "       [1, 2, 3, 4],\n",
       "       [1, 2, 5, 8]])"
      ]
     },
     "execution_count": 159,
     "metadata": {},
     "output_type": "execute_result"
    }
   ],
   "source": [
    "test"
   ]
  },
  {
   "cell_type": "code",
   "execution_count": 162,
   "id": "b23852e0",
   "metadata": {
    "ExecuteTime": {
     "end_time": "2022-07-08T14:44:29.831402Z",
     "start_time": "2022-07-08T14:44:29.821211Z"
    }
   },
   "outputs": [
    {
     "data": {
      "text/plain": [
       "array([4, 5, 8, 4, 5, 8])"
      ]
     },
     "execution_count": 162,
     "metadata": {},
     "output_type": "execute_result"
    }
   ],
   "source": [
    "test[test>3]"
   ]
  },
  {
   "cell_type": "code",
   "execution_count": 167,
   "id": "a071c662",
   "metadata": {
    "ExecuteTime": {
     "end_time": "2022-07-08T14:45:34.402156Z",
     "start_time": "2022-07-08T14:45:34.393169Z"
    }
   },
   "outputs": [
    {
     "data": {
      "text/plain": [
       "array([[False, False, False,  True],\n",
       "       [False, False,  True,  True],\n",
       "       [False, False, False,  True],\n",
       "       [False, False,  True,  True]])"
      ]
     },
     "execution_count": 167,
     "metadata": {},
     "output_type": "execute_result"
    }
   ],
   "source": [
    "B = test > 3\n",
    "B"
   ]
  },
  {
   "cell_type": "code",
   "execution_count": 168,
   "id": "a0602fb8",
   "metadata": {
    "ExecuteTime": {
     "end_time": "2022-07-08T14:45:40.640569Z",
     "start_time": "2022-07-08T14:45:40.627258Z"
    }
   },
   "outputs": [
    {
     "data": {
      "text/plain": [
       "array([[0, 0, 0, 1],\n",
       "       [0, 0, 1, 1],\n",
       "       [0, 0, 0, 1],\n",
       "       [0, 0, 1, 1]])"
      ]
     },
     "execution_count": 168,
     "metadata": {},
     "output_type": "execute_result"
    }
   ],
   "source": [
    "B.astype(int) # binary로 바꿀 수 있음"
   ]
  },
  {
   "cell_type": "markdown",
   "id": "55460700",
   "metadata": {
    "ExecuteTime": {
     "end_time": "2022-07-08T14:46:42.717386Z",
     "start_time": "2022-07-08T14:46:42.708855Z"
    }
   },
   "source": [
    "### fancy index\n",
    ": numpy array를 index value로 사용해서 값을 추출하는 방법"
   ]
  },
  {
   "cell_type": "code",
   "execution_count": 171,
   "id": "dbd079dd",
   "metadata": {
    "ExecuteTime": {
     "end_time": "2022-07-08T14:47:15.467591Z",
     "start_time": "2022-07-08T14:47:15.460476Z"
    }
   },
   "outputs": [
    {
     "data": {
      "text/plain": [
       "array([2, 2, 4, 8, 6, 4])"
      ]
     },
     "execution_count": 171,
     "metadata": {},
     "output_type": "execute_result"
    }
   ],
   "source": [
    "a = np.array([2,4,6,8])\n",
    "b = np.array([0,0,1,3,2,1],int)\n",
    "a[b] # b를 인덱스 값으로 a에서 값 추출"
   ]
  },
  {
   "cell_type": "code",
   "execution_count": 172,
   "id": "883dbd64",
   "metadata": {
    "ExecuteTime": {
     "end_time": "2022-07-08T14:48:23.323482Z",
     "start_time": "2022-07-08T14:48:23.315204Z"
    }
   },
   "outputs": [
    {
     "data": {
      "text/plain": [
       "array([2, 2, 4, 8, 6, 4])"
      ]
     },
     "execution_count": 172,
     "metadata": {},
     "output_type": "execute_result"
    }
   ],
   "source": [
    "a.take(b) # 위처럼 쓰면 가독성이 떨어지니 이렇게 씀\n",
    "# take 함수: bracket index와 같은 효과"
   ]
  },
  {
   "cell_type": "code",
   "execution_count": 173,
   "id": "01a0f897",
   "metadata": {
    "ExecuteTime": {
     "end_time": "2022-07-08T14:49:16.279742Z",
     "start_time": "2022-07-08T14:49:16.270295Z"
    }
   },
   "outputs": [
    {
     "data": {
      "text/plain": [
       "array([[1, 2, 3, 4],\n",
       "       [1, 2, 5, 8],\n",
       "       [1, 2, 3, 4],\n",
       "       [1, 2, 5, 8]])"
      ]
     },
     "execution_count": 173,
     "metadata": {},
     "output_type": "execute_result"
    }
   ],
   "source": [
    "test"
   ]
  },
  {
   "cell_type": "code",
   "execution_count": 176,
   "id": "f43c0b0e",
   "metadata": {
    "ExecuteTime": {
     "end_time": "2022-07-08T14:49:49.922819Z",
     "start_time": "2022-07-08T14:49:49.915615Z"
    }
   },
   "outputs": [
    {
     "data": {
      "text/plain": [
       "array([1, 1, 2, 8, 3, 2])"
      ]
     },
     "execution_count": 176,
     "metadata": {},
     "output_type": "execute_result"
    }
   ],
   "source": [
    "# fancy index는 Matrix 형태의 데이터도 가능\n",
    "test[b,b] "
   ]
  },
  {
   "cell_type": "markdown",
   "id": "4e329c0a",
   "metadata": {},
   "source": [
    "### numpy object - npy\n",
    ": Numpy object를 pickle 형태로 데이터 저장하고 불러오는게 가능<br>\n",
    "**확장자는 .npy이고, 피클처럼 Binary로 저장**"
   ]
  },
  {
   "cell_type": "code",
   "execution_count": 177,
   "id": "f4400986",
   "metadata": {
    "ExecuteTime": {
     "end_time": "2022-07-08T14:51:46.759967Z",
     "start_time": "2022-07-08T14:51:46.752217Z"
    }
   },
   "outputs": [
    {
     "data": {
      "text/plain": [
       "array([[1, 2, 3, 4],\n",
       "       [1, 2, 5, 8],\n",
       "       [1, 2, 3, 4],\n",
       "       [1, 2, 5, 8]])"
      ]
     },
     "execution_count": 177,
     "metadata": {},
     "output_type": "execute_result"
    }
   ],
   "source": [
    "test"
   ]
  },
  {
   "cell_type": "code",
   "execution_count": 178,
   "id": "2b656106",
   "metadata": {
    "ExecuteTime": {
     "end_time": "2022-07-08T14:51:47.266275Z",
     "start_time": "2022-07-08T14:51:47.258946Z"
    }
   },
   "outputs": [],
   "source": [
    "np.save(\"npy_test\", arr=test)"
   ]
  },
  {
   "cell_type": "code",
   "execution_count": 180,
   "id": "fb3c9316",
   "metadata": {
    "ExecuteTime": {
     "end_time": "2022-07-08T14:52:03.728474Z",
     "start_time": "2022-07-08T14:52:03.719313Z"
    }
   },
   "outputs": [
    {
     "data": {
      "text/plain": [
       "array([[1, 2, 3, 4],\n",
       "       [1, 2, 5, 8],\n",
       "       [1, 2, 3, 4],\n",
       "       [1, 2, 5, 8]])"
      ]
     },
     "execution_count": 180,
     "metadata": {},
     "output_type": "execute_result"
    }
   ],
   "source": [
    "np.load(\"npy_test.npy\")"
   ]
  }
 ],
 "metadata": {
  "kernelspec": {
   "display_name": "Python 3",
   "language": "python",
   "name": "python3"
  },
  "language_info": {
   "codemirror_mode": {
    "name": "ipython",
    "version": 3
   },
   "file_extension": ".py",
   "mimetype": "text/x-python",
   "name": "python",
   "nbconvert_exporter": "python",
   "pygments_lexer": "ipython3",
   "version": "3.8.12"
  },
  "toc": {
   "base_numbering": 1,
   "nav_menu": {},
   "number_sections": true,
   "sideBar": true,
   "skip_h1_title": false,
   "title_cell": "Table of Contents",
   "title_sidebar": "Contents",
   "toc_cell": false,
   "toc_position": {},
   "toc_section_display": true,
   "toc_window_display": true
  }
 },
 "nbformat": 4,
 "nbformat_minor": 5
}
