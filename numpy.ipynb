{
 "cells": [
  {
   "cell_type": "markdown",
   "id": "b7cbab40",
   "metadata": {},
   "source": [
    "### 데이터 타입 지정 ndarray\n",
    "- numpy는 하나의 데이터 type만 배열에 넣을 수 있다.<br>\n",
    " -> List와 가장 큰 차이점, Dynamic typing not supported(리스트에는 여러 데이터타입 넣는게 가능)<br>"
   ]
  },
  {
   "cell_type": "code",
   "execution_count": 34,
   "id": "5457e568",
   "metadata": {
    "ExecuteTime": {
     "end_time": "2022-07-08T13:46:07.852645Z",
     "start_time": "2022-07-08T13:46:07.844752Z"
    }
   },
   "outputs": [
    {
     "name": "stdout",
     "output_type": "stream",
     "text": [
      "[1. 4. 5. 8.]\n",
      "test_array.dtype = dtype('float64')\n"
     ]
    }
   ],
   "source": [
    "import numpy as np\n",
    "test_array = np.array([1,4,5,\"8\"], float) # float으로 타입 지정 -> 자동으로 float64\n",
    "print(test_array)\n",
    "print(f\"{test_array.dtype = }\")"
   ]
  },
  {
   "cell_type": "markdown",
   "id": "d118b850",
   "metadata": {},
   "source": [
    "### 얕은 복사와 깊은 복사"
   ]
  },
  {
   "cell_type": "code",
   "execution_count": 10,
   "id": "13568da5",
   "metadata": {
    "ExecuteTime": {
     "end_time": "2022-07-08T05:25:21.906651Z",
     "start_time": "2022-07-08T05:25:21.889407Z"
    }
   },
   "outputs": [
    {
     "name": "stdout",
     "output_type": "stream",
     "text": [
      "[[100, 2], [3, 4]]\n",
      "[[100, 2], [3, 4]]\n"
     ]
    }
   ],
   "source": [
    "a=[[1,2],[3,4]]\n",
    "b=a.copy() # 얕은 복사의 한계\n",
    "a[0][0]=100\n",
    "print(a)\n",
    "print(b)"
   ]
  },
  {
   "cell_type": "code",
   "execution_count": 11,
   "id": "fe394908",
   "metadata": {
    "ExecuteTime": {
     "end_time": "2022-07-08T05:26:14.725037Z",
     "start_time": "2022-07-08T05:26:14.720580Z"
    }
   },
   "outputs": [
    {
     "name": "stdout",
     "output_type": "stream",
     "text": [
      "[[100, 2], [3, 4]]\n",
      "[[1, 2], [3, 4]]\n"
     ]
    }
   ],
   "source": [
    "import copy\n",
    "a=[[1,2],[3,4]]\n",
    "b = copy.deepcopy(a)\n",
    "a[0][0]=100\n",
    "print(a)\n",
    "print(b)"
   ]
  },
  {
   "cell_type": "markdown",
   "id": "930194b5",
   "metadata": {},
   "source": [
    "### flatten\n",
    ": 다차원 array를 1차원 array로 변환"
   ]
  },
  {
   "cell_type": "code",
   "execution_count": 46,
   "id": "a64256b7",
   "metadata": {
    "ExecuteTime": {
     "end_time": "2022-07-08T13:51:19.278759Z",
     "start_time": "2022-07-08T13:51:19.263229Z"
    }
   },
   "outputs": [
    {
     "name": "stdout",
     "output_type": "stream",
     "text": [
      "test_arr.shape = (2, 2, 4)\n",
      "test_arr = array([[[1, 2, 3, 4],\n",
      "        [1, 2, 5, 8]],\n",
      "\n",
      "       [[1, 2, 3, 4],\n",
      "        [1, 2, 5, 8]]])\n"
     ]
    },
    {
     "data": {
      "text/plain": [
       "array([1, 2, 3, 4, 1, 2, 5, 8, 1, 2, 3, 4, 1, 2, 5, 8])"
      ]
     },
     "execution_count": 46,
     "metadata": {},
     "output_type": "execute_result"
    }
   ],
   "source": [
    "test_matrix = [[[1,2,3,4], [1,2,5,8]], [[1,2,3,4,], [1,2,5,8]]]\n",
    "test_arr = np.array(test_matrix)\n",
    "print(f\"{test_arr.shape = }\\n{test_arr = }\")\n",
    "test_arr.flatten()"
   ]
  },
  {
   "cell_type": "markdown",
   "id": "9ce53428",
   "metadata": {},
   "source": [
    "### indexing"
   ]
  },
  {
   "cell_type": "code",
   "execution_count": 48,
   "id": "d333c928",
   "metadata": {
    "ExecuteTime": {
     "end_time": "2022-07-08T13:52:03.275598Z",
     "start_time": "2022-07-08T13:52:03.264924Z"
    }
   },
   "outputs": [
    {
     "data": {
      "text/plain": [
       "array([[1, 2, 3, 4],\n",
       "       [1, 2, 5, 8],\n",
       "       [1, 2, 3, 4],\n",
       "       [1, 2, 5, 8]])"
      ]
     },
     "execution_count": 48,
     "metadata": {},
     "output_type": "execute_result"
    }
   ],
   "source": [
    "test = test_arr.reshape(4,4)\n",
    "test"
   ]
  },
  {
   "cell_type": "code",
   "execution_count": 181,
   "id": "a8be0dcb",
   "metadata": {
    "ExecuteTime": {
     "end_time": "2022-07-08T14:55:50.071752Z",
     "start_time": "2022-07-08T14:55:50.060804Z"
    }
   },
   "outputs": [
    {
     "name": "stdout",
     "output_type": "stream",
     "text": [
      "test[0,1] = 2\n",
      "test[0][1] = 2\n"
     ]
    }
   ],
   "source": [
    "print(f\"{test[0,1] = }\")\n",
    "print(f\"{test[0][1] = }\")\n",
    "#똑같다."
   ]
  },
  {
   "cell_type": "markdown",
   "id": "9fb23ed7",
   "metadata": {},
   "source": [
    "### slicing"
   ]
  },
  {
   "cell_type": "code",
   "execution_count": 55,
   "id": "437d9d4b",
   "metadata": {
    "ExecuteTime": {
     "end_time": "2022-07-08T13:53:55.953873Z",
     "start_time": "2022-07-08T13:53:55.944016Z"
    }
   },
   "outputs": [
    {
     "data": {
      "text/plain": [
       "array([[1, 2, 3, 4],\n",
       "       [1, 2, 5, 8],\n",
       "       [1, 2, 3, 4],\n",
       "       [1, 2, 5, 8]])"
      ]
     },
     "execution_count": 55,
     "metadata": {},
     "output_type": "execute_result"
    }
   ],
   "source": [
    "test"
   ]
  },
  {
   "cell_type": "code",
   "execution_count": 53,
   "id": "d49ace55",
   "metadata": {
    "ExecuteTime": {
     "end_time": "2022-07-08T13:53:24.476488Z",
     "start_time": "2022-07-08T13:53:24.467480Z"
    }
   },
   "outputs": [
    {
     "data": {
      "text/plain": [
       "array([[3, 4],\n",
       "       [5, 8],\n",
       "       [3, 4],\n",
       "       [5, 8]])"
      ]
     },
     "execution_count": 53,
     "metadata": {},
     "output_type": "execute_result"
    }
   ],
   "source": [
    "test[:,2:] # 전체 Row, 2열 이상"
   ]
  },
  {
   "cell_type": "code",
   "execution_count": 54,
   "id": "fd7e1170",
   "metadata": {
    "ExecuteTime": {
     "end_time": "2022-07-08T13:53:48.123455Z",
     "start_time": "2022-07-08T13:53:48.113960Z"
    }
   },
   "outputs": [
    {
     "data": {
      "text/plain": [
       "array([2, 5])"
      ]
     },
     "execution_count": 54,
     "metadata": {},
     "output_type": "execute_result"
    }
   ],
   "source": [
    "test[1,1:3] # 1행, 1~2열"
   ]
  },
  {
   "cell_type": "code",
   "execution_count": 56,
   "id": "1422291e",
   "metadata": {
    "ExecuteTime": {
     "end_time": "2022-07-08T13:54:20.440904Z",
     "start_time": "2022-07-08T13:54:20.431792Z"
    }
   },
   "outputs": [
    {
     "data": {
      "text/plain": [
       "array([[1, 2, 5, 8],\n",
       "       [1, 2, 3, 4]])"
      ]
     },
     "execution_count": 56,
     "metadata": {},
     "output_type": "execute_result"
    }
   ],
   "source": [
    "test[1:3] # 1~2행"
   ]
  },
  {
   "cell_type": "markdown",
   "id": "3aee8b52",
   "metadata": {},
   "source": [
    "### np.arange"
   ]
  },
  {
   "cell_type": "code",
   "execution_count": 58,
   "id": "f22a6d5e",
   "metadata": {
    "ExecuteTime": {
     "end_time": "2022-07-08T13:55:22.698227Z",
     "start_time": "2022-07-08T13:55:22.691087Z"
    }
   },
   "outputs": [
    {
     "data": {
      "text/plain": [
       "array([0, 2, 4, 6, 8])"
      ]
     },
     "execution_count": 58,
     "metadata": {},
     "output_type": "execute_result"
    }
   ],
   "source": [
    "np.arange(0, 10, 2) # (시작, 끝, step)"
   ]
  },
  {
   "cell_type": "code",
   "execution_count": 59,
   "id": "94b76106",
   "metadata": {
    "ExecuteTime": {
     "end_time": "2022-07-08T13:55:38.440111Z",
     "start_time": "2022-07-08T13:55:38.432113Z"
    }
   },
   "outputs": [
    {
     "data": {
      "text/plain": [
       "array([ 0,  1,  2,  3,  4,  5,  6,  7,  8,  9, 10, 11, 12, 13, 14, 15, 16,\n",
       "       17, 18, 19, 20, 21, 22, 23, 24, 25, 26, 27, 28, 29])"
      ]
     },
     "execution_count": 59,
     "metadata": {},
     "output_type": "execute_result"
    }
   ],
   "source": [
    "np.arange(30) # 0~29까지"
   ]
  },
  {
   "cell_type": "code",
   "execution_count": 60,
   "id": "577734e3",
   "metadata": {
    "ExecuteTime": {
     "end_time": "2022-07-08T13:55:45.955841Z",
     "start_time": "2022-07-08T13:55:45.945242Z"
    }
   },
   "outputs": [
    {
     "data": {
      "text/plain": [
       "array([[ 0,  1,  2,  3,  4,  5],\n",
       "       [ 6,  7,  8,  9, 10, 11],\n",
       "       [12, 13, 14, 15, 16, 17],\n",
       "       [18, 19, 20, 21, 22, 23],\n",
       "       [24, 25, 26, 27, 28, 29]])"
      ]
     },
     "execution_count": 60,
     "metadata": {},
     "output_type": "execute_result"
    }
   ],
   "source": [
    "np.arange(30).reshape(5,6) # 5행 6열"
   ]
  },
  {
   "cell_type": "markdown",
   "id": "394ea4df",
   "metadata": {},
   "source": [
    "### np.ones, zeros"
   ]
  },
  {
   "cell_type": "code",
   "execution_count": 63,
   "id": "a134e9d2",
   "metadata": {
    "ExecuteTime": {
     "end_time": "2022-07-08T13:57:27.054014Z",
     "start_time": "2022-07-08T13:57:27.039645Z"
    }
   },
   "outputs": [
    {
     "name": "stdout",
     "output_type": "stream",
     "text": [
      "ones.dtype = dtype('int64')\n"
     ]
    },
    {
     "data": {
      "text/plain": [
       "array([[1, 1, 1, 1, 1],\n",
       "       [1, 1, 1, 1, 1]])"
      ]
     },
     "execution_count": 63,
     "metadata": {},
     "output_type": "execute_result"
    }
   ],
   "source": [
    "ones = np.ones((2,5), dtype=int)\n",
    "print(f\"{ones.dtype = }\")\n",
    "ones\n",
    "# zeros도 마찬가지"
   ]
  },
  {
   "cell_type": "markdown",
   "id": "06186e41",
   "metadata": {},
   "source": [
    "### np.ones_like, np.zeros_like"
   ]
  },
  {
   "cell_type": "code",
   "execution_count": 64,
   "id": "391d3a1d",
   "metadata": {
    "ExecuteTime": {
     "end_time": "2022-07-08T13:58:04.064790Z",
     "start_time": "2022-07-08T13:58:04.053733Z"
    }
   },
   "outputs": [
    {
     "name": "stdout",
     "output_type": "stream",
     "text": [
      "test.shape = (4, 4)\n"
     ]
    },
    {
     "data": {
      "text/plain": [
       "array([[1, 1, 1, 1],\n",
       "       [1, 1, 1, 1],\n",
       "       [1, 1, 1, 1],\n",
       "       [1, 1, 1, 1]])"
      ]
     },
     "execution_count": 64,
     "metadata": {},
     "output_type": "execute_result"
    }
   ],
   "source": [
    "print(f\"{test.shape = }\")\n",
    "np.ones_like(test)"
   ]
  },
  {
   "cell_type": "markdown",
   "id": "906ea545",
   "metadata": {},
   "source": [
    "### np.identity\n",
    ": 단위 행렬을 생성"
   ]
  },
  {
   "cell_type": "code",
   "execution_count": 69,
   "id": "34bc5418",
   "metadata": {
    "ExecuteTime": {
     "end_time": "2022-07-08T14:00:30.161343Z",
     "start_time": "2022-07-08T14:00:30.149163Z"
    }
   },
   "outputs": [
    {
     "name": "stdout",
     "output_type": "stream",
     "text": [
      "i.dtype = dtype('int64')\n"
     ]
    },
    {
     "data": {
      "text/plain": [
       "array([[1, 0, 0],\n",
       "       [0, 1, 0],\n",
       "       [0, 0, 1]])"
      ]
     },
     "execution_count": 69,
     "metadata": {},
     "output_type": "execute_result"
    }
   ],
   "source": [
    "i = np.identity(n=3, dtype=int)\n",
    "print(f\"{i.dtype = }\")\n",
    "i"
   ]
  },
  {
   "cell_type": "markdown",
   "id": "8738b093",
   "metadata": {},
   "source": [
    "### np.eye\n",
    ": 대각선이 1인 행렬, k(start index) 변경가능"
   ]
  },
  {
   "cell_type": "code",
   "execution_count": 70,
   "id": "b8b4e7b6",
   "metadata": {
    "ExecuteTime": {
     "end_time": "2022-07-08T14:00:47.406757Z",
     "start_time": "2022-07-08T14:00:47.397791Z"
    }
   },
   "outputs": [
    {
     "name": "stdout",
     "output_type": "stream",
     "text": [
      "e.dtype = dtype('int64')\n"
     ]
    },
    {
     "data": {
      "text/plain": [
       "array([[1, 0, 0, 0, 0],\n",
       "       [0, 1, 0, 0, 0],\n",
       "       [0, 0, 1, 0, 0]])"
      ]
     },
     "execution_count": 70,
     "metadata": {},
     "output_type": "execute_result"
    }
   ],
   "source": [
    "e = np.eye(N=3, M=5, dtype=int)\n",
    "print(f\"{e.dtype = }\")\n",
    "e"
   ]
  },
  {
   "cell_type": "code",
   "execution_count": 71,
   "id": "87ad1b0c",
   "metadata": {
    "ExecuteTime": {
     "end_time": "2022-07-08T14:00:51.880691Z",
     "start_time": "2022-07-08T14:00:51.869915Z"
    }
   },
   "outputs": [
    {
     "data": {
      "text/plain": [
       "array([[1., 0., 0.],\n",
       "       [0., 1., 0.],\n",
       "       [0., 0., 1.]])"
      ]
     },
     "execution_count": 71,
     "metadata": {},
     "output_type": "execute_result"
    }
   ],
   "source": [
    "np.eye(3)"
   ]
  },
  {
   "cell_type": "code",
   "execution_count": 72,
   "id": "624bfe10",
   "metadata": {
    "ExecuteTime": {
     "end_time": "2022-07-08T14:01:03.836737Z",
     "start_time": "2022-07-08T14:01:03.828441Z"
    }
   },
   "outputs": [
    {
     "data": {
      "text/plain": [
       "array([[0., 0., 1., 0., 0.],\n",
       "       [0., 0., 0., 1., 0.],\n",
       "       [0., 0., 0., 0., 1.]])"
      ]
     },
     "execution_count": 72,
     "metadata": {},
     "output_type": "execute_result"
    }
   ],
   "source": [
    "np.eye(3,5,k=2) # start index 2 (2열부터 대각행렬)"
   ]
  },
  {
   "cell_type": "markdown",
   "id": "6ae3063b",
   "metadata": {},
   "source": [
    "### random sampling"
   ]
  },
  {
   "cell_type": "code",
   "execution_count": 74,
   "id": "4ebc4b59",
   "metadata": {
    "ExecuteTime": {
     "end_time": "2022-07-08T14:02:12.380839Z",
     "start_time": "2022-07-08T14:02:12.372017Z"
    }
   },
   "outputs": [
    {
     "data": {
      "text/plain": [
       "array([[0.61458193, 0.11553319, 0.3738878 , 0.11206745, 0.99118032],\n",
       "       [0.84089873, 0.90170199, 0.32228599, 0.10527329, 0.24510245]])"
      ]
     },
     "execution_count": 74,
     "metadata": {},
     "output_type": "execute_result"
    }
   ],
   "source": [
    "np.random.uniform(0,1,10).reshape(2,5) # 0~1 균등분포"
   ]
  },
  {
   "cell_type": "code",
   "execution_count": 77,
   "id": "276d6422",
   "metadata": {
    "ExecuteTime": {
     "end_time": "2022-07-08T14:04:34.061224Z",
     "start_time": "2022-07-08T14:04:34.049570Z"
    }
   },
   "outputs": [
    {
     "data": {
      "text/plain": [
       "array([[ 1.77916019,  0.60619016,  0.06288257,  1.57586799],\n",
       "       [-1.36382115,  0.0531033 ,  1.91525422,  0.70426533]])"
      ]
     },
     "execution_count": 77,
     "metadata": {},
     "output_type": "execute_result"
    }
   ],
   "source": [
    "np.random.normal(0,1,8).reshape(2,4) # 정규분포 - 중앙값:0, 표준편차:1, 8개 값"
   ]
  },
  {
   "cell_type": "markdown",
   "id": "fa30c38f",
   "metadata": {},
   "source": [
    "### axis\n",
    "\n",
    "1차원 -> 2차원 -> 3차원으로 갈때<br>\n",
    "shape는 열 -> 행, 열 -> 면, 행, 열 처럼 새로나오는 차원이 왼쪽에 붙는다.<br>\n",
    "**이 떄 axis는 새롭게 생긴 차원(shape 에서 제일 왼쪾에 있는 차원)이 항상 0이다**"
   ]
  },
  {
   "cell_type": "code",
   "execution_count": 85,
   "id": "7e9bb28b",
   "metadata": {
    "ExecuteTime": {
     "end_time": "2022-07-08T14:08:50.706508Z",
     "start_time": "2022-07-08T14:08:50.700817Z"
    }
   },
   "outputs": [
    {
     "name": "stdout",
     "output_type": "stream",
     "text": [
      "on.shape = (30,)\n",
      "on = array([1., 1., 1., 1., 1., 1., 1., 1., 1., 1., 1., 1., 1., 1., 1., 1., 1.,\n",
      "       1., 1., 1., 1., 1., 1., 1., 1., 1., 1., 1., 1., 1.])\n"
     ]
    }
   ],
   "source": [
    "# 1차원 30개 짜리가 있을 때\n",
    "on = np.ones(30)\n",
    "print(f\"{on.shape = }\\n{on = }\")\n",
    "# 열이 axis=0"
   ]
  },
  {
   "cell_type": "code",
   "execution_count": 86,
   "id": "161f63f6",
   "metadata": {
    "ExecuteTime": {
     "end_time": "2022-07-08T14:08:50.923963Z",
     "start_time": "2022-07-08T14:08:50.914786Z"
    }
   },
   "outputs": [
    {
     "name": "stdout",
     "output_type": "stream",
     "text": [
      "on.shape = (5, 6)\n",
      "on = array([[1., 1., 1., 1., 1., 1.],\n",
      "       [1., 1., 1., 1., 1., 1.],\n",
      "       [1., 1., 1., 1., 1., 1.],\n",
      "       [1., 1., 1., 1., 1., 1.],\n",
      "       [1., 1., 1., 1., 1., 1.]])\n"
     ]
    }
   ],
   "source": [
    "on = on.reshape(5,6)\n",
    "print(f\"{on.shape = }\\n{on = }\")\n",
    "# 2차원이 되면 3행, 9열\n",
    "# 행이 axis=0"
   ]
  },
  {
   "cell_type": "code",
   "execution_count": 93,
   "id": "9e814d5f",
   "metadata": {
    "ExecuteTime": {
     "end_time": "2022-07-08T14:15:22.295505Z",
     "start_time": "2022-07-08T14:15:22.285913Z"
    }
   },
   "outputs": [
    {
     "name": "stdout",
     "output_type": "stream",
     "text": [
      "on.shape = (2, 3, 5)\n",
      "on = array([[[1., 1., 1., 1., 1.],\n",
      "        [1., 1., 1., 1., 1.],\n",
      "        [1., 1., 1., 1., 1.]],\n",
      "\n",
      "       [[1., 1., 1., 1., 1.],\n",
      "        [1., 1., 1., 1., 1.],\n",
      "        [1., 1., 1., 1., 1.]]])\n"
     ]
    }
   ],
   "source": [
    "on = on.reshape(2,3,5)\n",
    "print(f\"{on.shape = }\\n{on = }\")\n",
    "# 3차원이면 2면, 3행, 5열\n",
    "# 면이 axis=0"
   ]
  },
  {
   "cell_type": "code",
   "execution_count": 94,
   "id": "5ef473f0",
   "metadata": {
    "ExecuteTime": {
     "end_time": "2022-07-08T14:15:23.631572Z",
     "start_time": "2022-07-08T14:15:23.625405Z"
    }
   },
   "outputs": [
    {
     "data": {
      "text/plain": [
       "array([[2., 2., 2., 2., 2.],\n",
       "       [2., 2., 2., 2., 2.],\n",
       "       [2., 2., 2., 2., 2.]])"
      ]
     },
     "execution_count": 94,
     "metadata": {},
     "output_type": "execute_result"
    }
   ],
   "source": [
    "on.sum(axis=0) # 면을 기준하여 수직으로 합"
   ]
  },
  {
   "cell_type": "code",
   "execution_count": 95,
   "id": "bd39c83f",
   "metadata": {
    "ExecuteTime": {
     "end_time": "2022-07-08T14:15:24.036894Z",
     "start_time": "2022-07-08T14:15:24.027974Z"
    }
   },
   "outputs": [
    {
     "data": {
      "text/plain": [
       "array([[3., 3., 3., 3., 3.],\n",
       "       [3., 3., 3., 3., 3.]])"
      ]
     },
     "execution_count": 95,
     "metadata": {},
     "output_type": "execute_result"
    }
   ],
   "source": [
    "on.sum(axis=1) # 행을 기준하여 수직으로 합"
   ]
  },
  {
   "cell_type": "code",
   "execution_count": 96,
   "id": "2cbd0748",
   "metadata": {
    "ExecuteTime": {
     "end_time": "2022-07-08T14:15:24.407265Z",
     "start_time": "2022-07-08T14:15:24.400020Z"
    }
   },
   "outputs": [
    {
     "data": {
      "text/plain": [
       "array([[5., 5., 5.],\n",
       "       [5., 5., 5.]])"
      ]
     },
     "execution_count": 96,
     "metadata": {},
     "output_type": "execute_result"
    }
   ],
   "source": [
    "on.sum(axis=2) # 열을 기준하여 수직으로 합"
   ]
  },
  {
   "cell_type": "markdown",
   "id": "b73ab67d",
   "metadata": {},
   "source": [
    "### concatenate: np.vstack, np.hstack\n",
    ": Numpy array를 합치는 함수<br>\n",
    "<br><img src=https://blog.kakaocdn.net/dn/rSWwB/btrGRjD076R/b2hLJt25wlC2y21oDSmal0/img.png width=1000>"
   ]
  },
  {
   "cell_type": "code",
   "execution_count": 106,
   "id": "dcb8de4d",
   "metadata": {
    "ExecuteTime": {
     "end_time": "2022-07-08T14:22:48.020228Z",
     "start_time": "2022-07-08T14:22:48.011837Z"
    }
   },
   "outputs": [
    {
     "data": {
      "text/plain": [
       "array([[1, 2, 3],\n",
       "       [2, 3, 4]])"
      ]
     },
     "execution_count": 106,
     "metadata": {},
     "output_type": "execute_result"
    }
   ],
   "source": [
    "a = np.array([1,2,3])\n",
    "b = np.array([2,3,4])\n",
    "np.vstack((a,b)) # vertical 수직 방향으로 붙인다"
   ]
  },
  {
   "cell_type": "code",
   "execution_count": 117,
   "id": "7deb38f6",
   "metadata": {
    "ExecuteTime": {
     "end_time": "2022-07-08T14:25:23.194410Z",
     "start_time": "2022-07-08T14:25:23.183734Z"
    }
   },
   "outputs": [
    {
     "data": {
      "text/plain": [
       "array([[1, 2, 3]])"
      ]
     },
     "execution_count": 117,
     "metadata": {},
     "output_type": "execute_result"
    }
   ],
   "source": [
    "a.reshape(1,-1)"
   ]
  },
  {
   "cell_type": "code",
   "execution_count": 120,
   "id": "08d44f46",
   "metadata": {
    "ExecuteTime": {
     "end_time": "2022-07-08T14:25:48.127800Z",
     "start_time": "2022-07-08T14:25:48.117902Z"
    }
   },
   "outputs": [
    {
     "data": {
      "text/plain": [
       "array([[1, 2, 3],\n",
       "       [2, 3, 4]])"
      ]
     },
     "execution_count": 120,
     "metadata": {},
     "output_type": "execute_result"
    }
   ],
   "source": [
    "# concatenate로 axis 지정하면 vstack 구현 가능\n",
    "np.concatenate( (a.reshape(1,3),b.reshape(1,3)), axis=0 )"
   ]
  },
  {
   "cell_type": "code",
   "execution_count": 121,
   "id": "1da0714a",
   "metadata": {
    "ExecuteTime": {
     "end_time": "2022-07-08T14:26:08.010267Z",
     "start_time": "2022-07-08T14:26:07.997600Z"
    }
   },
   "outputs": [
    {
     "data": {
      "text/plain": [
       "array([[1, 2],\n",
       "       [2, 3],\n",
       "       [3, 4]])"
      ]
     },
     "execution_count": 121,
     "metadata": {},
     "output_type": "execute_result"
    }
   ],
   "source": [
    "a = np.array([1,2,3]).reshape(3,-1)\n",
    "b = np.array([2,3,4]).reshape(3,-1)\n",
    "np.hstack((a,b)) # horizontal 수평 방향으로 붙인다"
   ]
  },
  {
   "cell_type": "code",
   "execution_count": 126,
   "id": "a93fe193",
   "metadata": {
    "ExecuteTime": {
     "end_time": "2022-07-08T14:26:42.996022Z",
     "start_time": "2022-07-08T14:26:42.987963Z"
    }
   },
   "outputs": [
    {
     "data": {
      "text/plain": [
       "array([[1, 2],\n",
       "       [2, 3],\n",
       "       [3, 4]])"
      ]
     },
     "execution_count": 126,
     "metadata": {},
     "output_type": "execute_result"
    }
   ],
   "source": [
    "# 마찬가지로 concatenate로 hstack도 구현가능\n",
    "np.concatenate((a,b), axis=1)"
   ]
  },
  {
   "cell_type": "markdown",
   "id": "5877b678",
   "metadata": {},
   "source": [
    "### array 연산\n",
    ": Numpy는 기본적으로 array간의 기본적인 사칙 연산 지원"
   ]
  },
  {
   "cell_type": "code",
   "execution_count": 128,
   "id": "97211133",
   "metadata": {
    "ExecuteTime": {
     "end_time": "2022-07-08T14:27:24.172682Z",
     "start_time": "2022-07-08T14:27:24.163385Z"
    }
   },
   "outputs": [
    {
     "data": {
      "text/plain": [
       "array([[1, 2, 3, 4],\n",
       "       [1, 2, 5, 8],\n",
       "       [1, 2, 3, 4],\n",
       "       [1, 2, 5, 8]])"
      ]
     },
     "execution_count": 128,
     "metadata": {},
     "output_type": "execute_result"
    }
   ],
   "source": [
    "test"
   ]
  },
  {
   "cell_type": "code",
   "execution_count": 129,
   "id": "70f81aa8",
   "metadata": {
    "ExecuteTime": {
     "end_time": "2022-07-08T14:27:26.135254Z",
     "start_time": "2022-07-08T14:27:26.128772Z"
    }
   },
   "outputs": [
    {
     "data": {
      "text/plain": [
       "array([[ 2,  4,  6,  8],\n",
       "       [ 2,  4, 10, 16],\n",
       "       [ 2,  4,  6,  8],\n",
       "       [ 2,  4, 10, 16]])"
      ]
     },
     "execution_count": 129,
     "metadata": {},
     "output_type": "execute_result"
    }
   ],
   "source": [
    "test + test"
   ]
  },
  {
   "cell_type": "code",
   "execution_count": 130,
   "id": "31712b9b",
   "metadata": {
    "ExecuteTime": {
     "end_time": "2022-07-08T14:27:29.423765Z",
     "start_time": "2022-07-08T14:27:29.416407Z"
    }
   },
   "outputs": [
    {
     "data": {
      "text/plain": [
       "array([[0, 0, 0, 0],\n",
       "       [0, 0, 0, 0],\n",
       "       [0, 0, 0, 0],\n",
       "       [0, 0, 0, 0]])"
      ]
     },
     "execution_count": 130,
     "metadata": {},
     "output_type": "execute_result"
    }
   ],
   "source": [
    "test - test"
   ]
  },
  {
   "cell_type": "code",
   "execution_count": 131,
   "id": "d8654e84",
   "metadata": {
    "ExecuteTime": {
     "end_time": "2022-07-08T14:27:36.476628Z",
     "start_time": "2022-07-08T14:27:36.467459Z"
    }
   },
   "outputs": [
    {
     "data": {
      "text/plain": [
       "array([[ 1,  4,  9, 16],\n",
       "       [ 1,  4, 25, 64],\n",
       "       [ 1,  4,  9, 16],\n",
       "       [ 1,  4, 25, 64]])"
      ]
     },
     "execution_count": 131,
     "metadata": {},
     "output_type": "execute_result"
    }
   ],
   "source": [
    "test * test"
   ]
  },
  {
   "cell_type": "code",
   "execution_count": 132,
   "id": "4824ade6",
   "metadata": {
    "ExecuteTime": {
     "end_time": "2022-07-08T14:27:39.501255Z",
     "start_time": "2022-07-08T14:27:39.492531Z"
    }
   },
   "outputs": [
    {
     "data": {
      "text/plain": [
       "array([[1., 1., 1., 1.],\n",
       "       [1., 1., 1., 1.],\n",
       "       [1., 1., 1., 1.],\n",
       "       [1., 1., 1., 1.]])"
      ]
     },
     "execution_count": 132,
     "metadata": {},
     "output_type": "execute_result"
    }
   ],
   "source": [
    "test / test"
   ]
  }
 ],
 "metadata": {
  "kernelspec": {
   "display_name": "Python 3",
   "language": "python",
   "name": "python3"
  },
  "language_info": {
   "codemirror_mode": {
    "name": "ipython",
    "version": 3
   },
   "file_extension": ".py",
   "mimetype": "text/x-python",
   "name": "python",
   "nbconvert_exporter": "python",
   "pygments_lexer": "ipython3",
   "version": "3.8.12"
  },
  "toc": {
   "base_numbering": 1,
   "nav_menu": {},
   "number_sections": true,
   "sideBar": true,
   "skip_h1_title": false,
   "title_cell": "Table of Contents",
   "title_sidebar": "Contents",
   "toc_cell": false,
   "toc_position": {},
   "toc_section_display": true,
   "toc_window_display": true
  }
 },
 "nbformat": 4,
 "nbformat_minor": 5
}
