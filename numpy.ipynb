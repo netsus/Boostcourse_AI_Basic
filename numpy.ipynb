{
 "cells": [
  {
   "cell_type": "markdown",
   "id": "b7cbab40",
   "metadata": {},
   "source": [
    "### 데이터 타입 지정 ndarray\n",
    "- numpy는 하나의 데이터 type만 배열에 넣을 수 있다.<br>\n",
    " -> List와 가장 큰 차이점, Dynamic typing not supported(리스트에는 여러 데이터타입 넣는게 가능)<br>"
   ]
  },
  {
   "cell_type": "code",
   "execution_count": 34,
   "id": "5457e568",
   "metadata": {
    "ExecuteTime": {
     "end_time": "2022-07-08T13:46:07.852645Z",
     "start_time": "2022-07-08T13:46:07.844752Z"
    }
   },
   "outputs": [
    {
     "name": "stdout",
     "output_type": "stream",
     "text": [
      "[1. 4. 5. 8.]\n",
      "test_array.dtype = dtype('float64')\n"
     ]
    }
   ],
   "source": [
    "import numpy as np\n",
    "test_array = np.array([1,4,5,\"8\"], float) # float으로 타입 지정 -> 자동으로 float64\n",
    "print(test_array)\n",
    "print(f\"{test_array.dtype = }\")"
   ]
  },
  {
   "cell_type": "markdown",
   "id": "d118b850",
   "metadata": {},
   "source": [
    "### 얕은 복사와 깊은 복사"
   ]
  },
  {
   "cell_type": "code",
   "execution_count": 10,
   "id": "13568da5",
   "metadata": {
    "ExecuteTime": {
     "end_time": "2022-07-08T05:25:21.906651Z",
     "start_time": "2022-07-08T05:25:21.889407Z"
    }
   },
   "outputs": [
    {
     "name": "stdout",
     "output_type": "stream",
     "text": [
      "[[100, 2], [3, 4]]\n",
      "[[100, 2], [3, 4]]\n"
     ]
    }
   ],
   "source": [
    "a=[[1,2],[3,4]]\n",
    "b=a.copy() # 얕은 복사의 한계\n",
    "a[0][0]=100\n",
    "print(a)\n",
    "print(b)"
   ]
  },
  {
   "cell_type": "code",
   "execution_count": 11,
   "id": "fe394908",
   "metadata": {
    "ExecuteTime": {
     "end_time": "2022-07-08T05:26:14.725037Z",
     "start_time": "2022-07-08T05:26:14.720580Z"
    }
   },
   "outputs": [
    {
     "name": "stdout",
     "output_type": "stream",
     "text": [
      "[[100, 2], [3, 4]]\n",
      "[[1, 2], [3, 4]]\n"
     ]
    }
   ],
   "source": [
    "import copy\n",
    "a=[[1,2],[3,4]]\n",
    "b = copy.deepcopy(a)\n",
    "a[0][0]=100\n",
    "print(a)\n",
    "print(b)"
   ]
  },
  {
   "cell_type": "markdown",
   "id": "930194b5",
   "metadata": {},
   "source": [
    "### flatten\n",
    ": 다차원 array를 1차원 array로 변환"
   ]
  },
  {
   "cell_type": "code",
   "execution_count": 46,
   "id": "a64256b7",
   "metadata": {
    "ExecuteTime": {
     "end_time": "2022-07-08T13:51:19.278759Z",
     "start_time": "2022-07-08T13:51:19.263229Z"
    }
   },
   "outputs": [
    {
     "name": "stdout",
     "output_type": "stream",
     "text": [
      "test_arr.shape = (2, 2, 4)\n",
      "test_arr = array([[[1, 2, 3, 4],\n",
      "        [1, 2, 5, 8]],\n",
      "\n",
      "       [[1, 2, 3, 4],\n",
      "        [1, 2, 5, 8]]])\n"
     ]
    },
    {
     "data": {
      "text/plain": [
       "array([1, 2, 3, 4, 1, 2, 5, 8, 1, 2, 3, 4, 1, 2, 5, 8])"
      ]
     },
     "execution_count": 46,
     "metadata": {},
     "output_type": "execute_result"
    }
   ],
   "source": [
    "test_matrix = [[[1,2,3,4], [1,2,5,8]], [[1,2,3,4,], [1,2,5,8]]]\n",
    "test_arr = np.array(test_matrix)\n",
    "print(f\"{test_arr.shape = }\\n{test_arr = }\")\n",
    "test_arr.flatten()"
   ]
  },
  {
   "cell_type": "markdown",
   "id": "9ce53428",
   "metadata": {},
   "source": [
    "### indexing"
   ]
  },
  {
   "cell_type": "code",
   "execution_count": 48,
   "id": "d333c928",
   "metadata": {
    "ExecuteTime": {
     "end_time": "2022-07-08T13:52:03.275598Z",
     "start_time": "2022-07-08T13:52:03.264924Z"
    }
   },
   "outputs": [
    {
     "data": {
      "text/plain": [
       "array([[1, 2, 3, 4],\n",
       "       [1, 2, 5, 8],\n",
       "       [1, 2, 3, 4],\n",
       "       [1, 2, 5, 8]])"
      ]
     },
     "execution_count": 48,
     "metadata": {},
     "output_type": "execute_result"
    }
   ],
   "source": [
    "test = test_arr.reshape(4,4)\n",
    "test"
   ]
  },
  {
   "cell_type": "code",
   "execution_count": 52,
   "id": "a8be0dcb",
   "metadata": {
    "ExecuteTime": {
     "end_time": "2022-07-08T13:52:32.767122Z",
     "start_time": "2022-07-08T13:52:32.759682Z"
    }
   },
   "outputs": [
    {
     "name": "stdout",
     "output_type": "stream",
     "text": [
      "test[0,1] = 2\n",
      "test[0][0] = 1\n"
     ]
    }
   ],
   "source": [
    "print(f\"{test[0,1] = }\")\n",
    "print(f\"{test[0][0] = }\")\n",
    "#똑같다."
   ]
  },
  {
   "cell_type": "markdown",
   "id": "9fb23ed7",
   "metadata": {},
   "source": [
    "### slicing"
   ]
  },
  {
   "cell_type": "code",
   "execution_count": 55,
   "id": "437d9d4b",
   "metadata": {
    "ExecuteTime": {
     "end_time": "2022-07-08T13:53:55.953873Z",
     "start_time": "2022-07-08T13:53:55.944016Z"
    }
   },
   "outputs": [
    {
     "data": {
      "text/plain": [
       "array([[1, 2, 3, 4],\n",
       "       [1, 2, 5, 8],\n",
       "       [1, 2, 3, 4],\n",
       "       [1, 2, 5, 8]])"
      ]
     },
     "execution_count": 55,
     "metadata": {},
     "output_type": "execute_result"
    }
   ],
   "source": [
    "test"
   ]
  },
  {
   "cell_type": "code",
   "execution_count": 53,
   "id": "d49ace55",
   "metadata": {
    "ExecuteTime": {
     "end_time": "2022-07-08T13:53:24.476488Z",
     "start_time": "2022-07-08T13:53:24.467480Z"
    }
   },
   "outputs": [
    {
     "data": {
      "text/plain": [
       "array([[3, 4],\n",
       "       [5, 8],\n",
       "       [3, 4],\n",
       "       [5, 8]])"
      ]
     },
     "execution_count": 53,
     "metadata": {},
     "output_type": "execute_result"
    }
   ],
   "source": [
    "test[:,2:] # 전체 Row, 2열 이상"
   ]
  },
  {
   "cell_type": "code",
   "execution_count": 54,
   "id": "fd7e1170",
   "metadata": {
    "ExecuteTime": {
     "end_time": "2022-07-08T13:53:48.123455Z",
     "start_time": "2022-07-08T13:53:48.113960Z"
    }
   },
   "outputs": [
    {
     "data": {
      "text/plain": [
       "array([2, 5])"
      ]
     },
     "execution_count": 54,
     "metadata": {},
     "output_type": "execute_result"
    }
   ],
   "source": [
    "test[1,1:3] # 1행, 1~2열"
   ]
  },
  {
   "cell_type": "code",
   "execution_count": 56,
   "id": "1422291e",
   "metadata": {
    "ExecuteTime": {
     "end_time": "2022-07-08T13:54:20.440904Z",
     "start_time": "2022-07-08T13:54:20.431792Z"
    }
   },
   "outputs": [
    {
     "data": {
      "text/plain": [
       "array([[1, 2, 5, 8],\n",
       "       [1, 2, 3, 4]])"
      ]
     },
     "execution_count": 56,
     "metadata": {},
     "output_type": "execute_result"
    }
   ],
   "source": [
    "test[1:3] # 1~2행"
   ]
  },
  {
   "cell_type": "markdown",
   "id": "3aee8b52",
   "metadata": {},
   "source": [
    "### np.arange"
   ]
  },
  {
   "cell_type": "code",
   "execution_count": 58,
   "id": "f22a6d5e",
   "metadata": {
    "ExecuteTime": {
     "end_time": "2022-07-08T13:55:22.698227Z",
     "start_time": "2022-07-08T13:55:22.691087Z"
    }
   },
   "outputs": [
    {
     "data": {
      "text/plain": [
       "array([0, 2, 4, 6, 8])"
      ]
     },
     "execution_count": 58,
     "metadata": {},
     "output_type": "execute_result"
    }
   ],
   "source": [
    "np.arange(0, 10, 2) # (시작, 끝, step)"
   ]
  },
  {
   "cell_type": "code",
   "execution_count": 59,
   "id": "94b76106",
   "metadata": {
    "ExecuteTime": {
     "end_time": "2022-07-08T13:55:38.440111Z",
     "start_time": "2022-07-08T13:55:38.432113Z"
    }
   },
   "outputs": [
    {
     "data": {
      "text/plain": [
       "array([ 0,  1,  2,  3,  4,  5,  6,  7,  8,  9, 10, 11, 12, 13, 14, 15, 16,\n",
       "       17, 18, 19, 20, 21, 22, 23, 24, 25, 26, 27, 28, 29])"
      ]
     },
     "execution_count": 59,
     "metadata": {},
     "output_type": "execute_result"
    }
   ],
   "source": [
    "np.arange(30) # 0~29까지"
   ]
  }
 ],
 "metadata": {
  "kernelspec": {
   "display_name": "Python 3",
   "language": "python",
   "name": "python3"
  },
  "language_info": {
   "codemirror_mode": {
    "name": "ipython",
    "version": 3
   },
   "file_extension": ".py",
   "mimetype": "text/x-python",
   "name": "python",
   "nbconvert_exporter": "python",
   "pygments_lexer": "ipython3",
   "version": "3.8.12"
  },
  "toc": {
   "base_numbering": 1,
   "nav_menu": {},
   "number_sections": true,
   "sideBar": true,
   "skip_h1_title": false,
   "title_cell": "Table of Contents",
   "title_sidebar": "Contents",
   "toc_cell": false,
   "toc_position": {},
   "toc_section_display": true,
   "toc_window_display": true
  }
 },
 "nbformat": 4,
 "nbformat_minor": 5
}
